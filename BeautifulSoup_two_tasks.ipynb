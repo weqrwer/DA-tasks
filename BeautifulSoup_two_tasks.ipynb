{
 "cells": [
  {
   "cell_type": "markdown",
   "id": "d360c7fb",
   "metadata": {},
   "source": [
    "С сайта https://books.toscrape.com/catalogue/category/books_1/page-1.html собрать название книги, ее стоимость, а также ссылку на книгу"
   ]
  },
  {
   "cell_type": "code",
   "execution_count": 1,
   "id": "cb10e3a0",
   "metadata": {},
   "outputs": [
    {
     "data": {
      "text/plain": [
       "<Response [200]>"
      ]
     },
     "execution_count": 1,
     "metadata": {},
     "output_type": "execute_result"
    }
   ],
   "source": [
    "import requests  \n",
    "url = 'http://books.toscrape.com/catalogue/page-1.html' # site for books parsing, first page\n",
    "response = requests.get(url)\n",
    "response"
   ]
  },
  {
   "cell_type": "code",
   "execution_count": 2,
   "id": "68b6e735",
   "metadata": {},
   "outputs": [
    {
     "data": {
      "text/plain": [
       "b'\\n\\n<!DOCTYPE html>\\n<!--[if lt IE 7]>      <html lang=\"en-us\" class=\"no-js lt-ie9 lt-ie8 lt-ie7\"> <![endif]-->\\n<!--[if IE 7]>         <html lang=\"en-us\" class=\"no-js lt-ie9 lt-ie8\"> <![endif]-->\\n<!--[if IE 8]>         <html lang=\"en-us\" class=\"no-js lt-ie9\"> <![endif]-->\\n<!--[if gt IE 8]><!--> <html lang=\"en-us\" class=\"no-js\"> <!--<![endif]-->\\n    <head>\\n        <title>\\n    All products | Books to Scrape - Sandbox\\n</title>\\n\\n        <meta http-equiv=\"content-type\" content=\"text/html; charset=UTF-8\" />\\n        <meta name=\"created\" content=\"24th Jun 2016 09:30\" />\\n        <meta name=\"description\" content=\"\" />\\n        <meta name=\"viewport\" content=\"width=device-width\" />\\n        <meta name=\"robots\" content=\"NOARCHIVE,NOCACHE\" />\\n\\n        <!-- Le HTML5 shim, for IE6-8 support of HTML elements -->\\n        <!--[if lt IE 9]>\\n        <script src=\"//html5shim.googlecode.com/svn/trunk/html5.js\"></script>\\n        <![endif]-->\\n\\n        \\n            <link rel=\"shortcut icon\" href=\"../static/oscar/fav'"
      ]
     },
     "execution_count": 2,
     "metadata": {},
     "output_type": "execute_result"
    }
   ],
   "source": [
    "response.content[:1000] # get the content of a page"
   ]
  },
  {
   "cell_type": "code",
   "execution_count": 3,
   "id": "25ae2b77",
   "metadata": {},
   "outputs": [],
   "source": [
    "from bs4 import BeautifulSoup"
   ]
  },
  {
   "cell_type": "code",
   "execution_count": 4,
   "id": "5bc97a63",
   "metadata": {},
   "outputs": [],
   "source": [
    "tree = BeautifulSoup(response.content, 'html.parser') # tree of html tags"
   ]
  },
  {
   "cell_type": "code",
   "execution_count": 5,
   "id": "0ef92fb7",
   "metadata": {},
   "outputs": [
    {
     "data": {
      "text/plain": [
       "<title>\n",
       "    All products | Books to Scrape - Sandbox\n",
       "</title>"
      ]
     },
     "execution_count": 5,
     "metadata": {},
     "output_type": "execute_result"
    }
   ],
   "source": [
    "tree.html.head.title # title tag in head "
   ]
  },
  {
   "cell_type": "code",
   "execution_count": 6,
   "id": "658dd0d0",
   "metadata": {},
   "outputs": [
    {
     "data": {
      "text/plain": [
       "'\\n    All products | Books to Scrape - Sandbox\\n'"
      ]
     },
     "execution_count": 6,
     "metadata": {},
     "output_type": "execute_result"
    }
   ],
   "source": [
    "tree.html.head.title.text # get the text content of tag"
   ]
  },
  {
   "cell_type": "code",
   "execution_count": 7,
   "id": "d4616328",
   "metadata": {},
   "outputs": [
    {
     "data": {
      "text/plain": [
       "<article class=\"product_pod\">\n",
       "<div class=\"image_container\">\n",
       "<a href=\"a-light-in-the-attic_1000/index.html\"><img alt=\"A Light in the Attic\" class=\"thumbnail\" src=\"../media/cache/2c/da/2cdad67c44b002e7ead0cc35693c0e8b.jpg\"/></a>\n",
       "</div>\n",
       "<p class=\"star-rating Three\">\n",
       "<i class=\"icon-star\"></i>\n",
       "<i class=\"icon-star\"></i>\n",
       "<i class=\"icon-star\"></i>\n",
       "<i class=\"icon-star\"></i>\n",
       "<i class=\"icon-star\"></i>\n",
       "</p>\n",
       "<h3><a href=\"a-light-in-the-attic_1000/index.html\" title=\"A Light in the Attic\">A Light in the ...</a></h3>\n",
       "<div class=\"product_price\">\n",
       "<p class=\"price_color\">£51.77</p>\n",
       "<p class=\"instock availability\">\n",
       "<i class=\"icon-ok\"></i>\n",
       "    \n",
       "        In stock\n",
       "    \n",
       "</p>\n",
       "<form>\n",
       "<button class=\"btn btn-primary btn-block\" data-loading-text=\"Adding...\" type=\"submit\">Add to basket</button>\n",
       "</form>\n",
       "</div>\n",
       "</article>"
      ]
     },
     "execution_count": 7,
     "metadata": {},
     "output_type": "execute_result"
    }
   ],
   "source": [
    "tree.find('article', {'class': 'product_pod'}) # find article tag with class=product_pod"
   ]
  },
  {
   "cell_type": "code",
   "execution_count": 8,
   "id": "d0d5c851",
   "metadata": {},
   "outputs": [
    {
     "data": {
      "text/plain": [
       "<h3><a href=\"a-light-in-the-attic_1000/index.html\" title=\"A Light in the Attic\">A Light in the ...</a></h3>"
      ]
     },
     "execution_count": 8,
     "metadata": {},
     "output_type": "execute_result"
    }
   ],
   "source": [
    "tree.find('article', {'class': 'product_pod'}).h3 # find h3 tag in it"
   ]
  },
  {
   "cell_type": "code",
   "execution_count": 9,
   "id": "bca23209",
   "metadata": {},
   "outputs": [
    {
     "data": {
      "text/plain": [
       "<p class=\"price_color\">£51.77</p>"
      ]
     },
     "execution_count": 9,
     "metadata": {},
     "output_type": "execute_result"
    }
   ],
   "source": [
    "tree.find('article', {'class': 'product_pod'}).find('p', {'class': 'price_color'}) # find p tag with class=price_color in it"
   ]
  },
  {
   "cell_type": "code",
   "execution_count": 10,
   "id": "544f098b",
   "metadata": {},
   "outputs": [
    {
     "data": {
      "text/plain": [
       "'£51.77'"
      ]
     },
     "execution_count": 10,
     "metadata": {},
     "output_type": "execute_result"
    }
   ],
   "source": [
    "tree.find('article', {'class': 'product_pod'}).find('p', {'class': 'price_color'}).text # get the text content of p tag"
   ]
  },
  {
   "cell_type": "markdown",
   "id": "3f3cf908",
   "metadata": {},
   "source": [
    "get_page is a function for getting the main info about a book"
   ]
  },
  {
   "cell_type": "code",
   "execution_count": 12,
   "id": "0e822b12",
   "metadata": {},
   "outputs": [],
   "source": [
    "def get_page(p):\n",
    "    # p - site link fragment\n",
    "    # изготовили ссылку\n",
    "    url = 'http://books.toscrape.com/catalogue/page-{}.html'.format(p)\n",
    "    \n",
    "    # сходили по ней\n",
    "    response = requests.get(url)\n",
    "    \n",
    "    # построили дерево \n",
    "    tree = BeautifulSoup(response.content, 'html.parser')\n",
    "    \n",
    "    # нашли в нём всё самое интересное\n",
    "    books = tree.find_all('article', {'class' : 'product_pod'})\n",
    "    \n",
    "    infa = [ ]\n",
    "    \n",
    "    for book in books:\n",
    "        infa.append({'price': book.find('p', {'class': 'price_color'}).text,\n",
    "                     'href': book.h3.a.get('href'),\n",
    "                     'title': book.h3.a.get('title')})\n",
    "                     \n",
    "    return infa # list of dictionaries in which we keep book price, title, href"
   ]
  },
  {
   "cell_type": "code",
   "execution_count": 13,
   "id": "50073f5b",
   "metadata": {},
   "outputs": [],
   "source": [
    "infa = [ ]\n",
    "# http://books.toscrape.com/catalogue has 50 pages of books, we use range and get_page function to gather info and store it in infa\n",
    "for p in range(1,51):\n",
    "    infa.extend(get_page(p))"
   ]
  },
  {
   "cell_type": "code",
   "execution_count": 14,
   "id": "32f75ea9",
   "metadata": {},
   "outputs": [
    {
     "data": {
      "text/plain": [
       "1000"
      ]
     },
     "execution_count": 14,
     "metadata": {},
     "output_type": "execute_result"
    }
   ],
   "source": [
    "len(infa)"
   ]
  },
  {
   "cell_type": "code",
   "execution_count": 15,
   "id": "73a10843",
   "metadata": {},
   "outputs": [
    {
     "data": {
      "text/plain": [
       "{'price': '£51.77',\n",
       " 'href': 'a-light-in-the-attic_1000/index.html',\n",
       " 'title': 'A Light in the Attic'}"
      ]
     },
     "execution_count": 15,
     "metadata": {},
     "output_type": "execute_result"
    }
   ],
   "source": [
    "infa[0] # information about first book on this site"
   ]
  },
  {
   "cell_type": "code",
   "execution_count": 16,
   "id": "86d22801",
   "metadata": {},
   "outputs": [
    {
     "data": {
      "text/html": [
       "<div>\n",
       "<style scoped>\n",
       "    .dataframe tbody tr th:only-of-type {\n",
       "        vertical-align: middle;\n",
       "    }\n",
       "\n",
       "    .dataframe tbody tr th {\n",
       "        vertical-align: top;\n",
       "    }\n",
       "\n",
       "    .dataframe thead th {\n",
       "        text-align: right;\n",
       "    }\n",
       "</style>\n",
       "<table border=\"1\" class=\"dataframe\">\n",
       "  <thead>\n",
       "    <tr style=\"text-align: right;\">\n",
       "      <th></th>\n",
       "      <th>price</th>\n",
       "      <th>href</th>\n",
       "      <th>title</th>\n",
       "    </tr>\n",
       "  </thead>\n",
       "  <tbody>\n",
       "    <tr>\n",
       "      <th>0</th>\n",
       "      <td>£51.77</td>\n",
       "      <td>a-light-in-the-attic_1000/index.html</td>\n",
       "      <td>A Light in the Attic</td>\n",
       "    </tr>\n",
       "    <tr>\n",
       "      <th>1</th>\n",
       "      <td>£53.74</td>\n",
       "      <td>tipping-the-velvet_999/index.html</td>\n",
       "      <td>Tipping the Velvet</td>\n",
       "    </tr>\n",
       "    <tr>\n",
       "      <th>2</th>\n",
       "      <td>£50.10</td>\n",
       "      <td>soumission_998/index.html</td>\n",
       "      <td>Soumission</td>\n",
       "    </tr>\n",
       "    <tr>\n",
       "      <th>3</th>\n",
       "      <td>£47.82</td>\n",
       "      <td>sharp-objects_997/index.html</td>\n",
       "      <td>Sharp Objects</td>\n",
       "    </tr>\n",
       "    <tr>\n",
       "      <th>4</th>\n",
       "      <td>£54.23</td>\n",
       "      <td>sapiens-a-brief-history-of-humankind_996/index...</td>\n",
       "      <td>Sapiens: A Brief History of Humankind</td>\n",
       "    </tr>\n",
       "  </tbody>\n",
       "</table>\n",
       "</div>"
      ],
      "text/plain": [
       "    price                                               href  \\\n",
       "0  £51.77               a-light-in-the-attic_1000/index.html   \n",
       "1  £53.74                  tipping-the-velvet_999/index.html   \n",
       "2  £50.10                          soumission_998/index.html   \n",
       "3  £47.82                       sharp-objects_997/index.html   \n",
       "4  £54.23  sapiens-a-brief-history-of-humankind_996/index...   \n",
       "\n",
       "                                   title  \n",
       "0                   A Light in the Attic  \n",
       "1                     Tipping the Velvet  \n",
       "2                             Soumission  \n",
       "3                          Sharp Objects  \n",
       "4  Sapiens: A Brief History of Humankind  "
      ]
     },
     "execution_count": 16,
     "metadata": {},
     "output_type": "execute_result"
    }
   ],
   "source": [
    "import pandas as pd\n",
    "# put infa into dataframe\n",
    "df = pd.DataFrame(infa)\n",
    "df.head()# get several first rows"
   ]
  },
  {
   "cell_type": "markdown",
   "id": "648b3cb4",
   "metadata": {},
   "source": [
    "Дополняем информацию о книге, добавляя описание книги и продуктовую информацию о стоимости/наличии в стоке. Для этого нужно будет воспользоваться второй ссылкой для каждой книги. Начнем с описания книги"
   ]
  },
  {
   "cell_type": "code",
   "execution_count": 17,
   "id": "6b11680f",
   "metadata": {},
   "outputs": [],
   "source": [
    "# site for books parsing, description page of a book 'tipping-the-velvet'\n",
    "url_new = 'http://books.toscrape.com/catalogue/tipping-the-velvet_999/index.html'\n",
    "response_new = requests.get(url_new)\n",
    "tree_new = BeautifulSoup(response_new.content, 'html.parser')# get the content into the tree"
   ]
  },
  {
   "cell_type": "code",
   "execution_count": 21,
   "id": "5aa8c77d",
   "metadata": {},
   "outputs": [
    {
     "data": {
      "text/plain": [
       "[<p class=\"price_color\">£53.74</p>,\n",
       " <p class=\"instock availability\">\n",
       " <i class=\"icon-ok\"></i>\n",
       "     \n",
       "         In stock (20 available)\n",
       "     \n",
       " </p>,\n",
       " <p class=\"star-rating One\">\n",
       " <i class=\"icon-star\"></i>\n",
       " <i class=\"icon-star\"></i>\n",
       " <i class=\"icon-star\"></i>\n",
       " <i class=\"icon-star\"></i>\n",
       " <i class=\"icon-star\"></i>\n",
       " <!-- <small><a href=\"/catalogue/tipping-the-velvet_999/reviews/\">\n",
       "         \n",
       "                 \n",
       "                     0 customer reviews\n",
       "                 \n",
       "         </a></small>\n",
       "          --> \n",
       " \n",
       " \n",
       " <!-- \n",
       "     <a id=\"write_review\" href=\"/catalogue/tipping-the-velvet_999/reviews/add/#addreview\" class=\"btn btn-success btn-sm\">\n",
       "         Write a review\n",
       "     </a>\n",
       " \n",
       "  --></p>,\n",
       " <p>\"Erotic and absorbing...Written with starling power.\"--\"The New York Times Book Review \" Nan King, an oyster girl, is captivated by the music hall phenomenon Kitty Butler, a male impersonator extraordinaire treading the boards in Canterbury. Through a friend at the box office, Nan manages to visit all her shows and finally meet her heroine. Soon after, she becomes Kitty's \"Erotic and absorbing...Written with starling power.\"--\"The New York Times Book Review \" Nan King, an oyster girl, is captivated by the music hall phenomenon Kitty Butler, a male impersonator extraordinaire treading the boards in Canterbury. Through a friend at the box office, Nan manages to visit all her shows and finally meet her heroine. Soon after, she becomes Kitty's dresser and the two head for the bright lights of Leicester Square where they begin a glittering career as music-hall stars in an all-singing and dancing double act. At the same time, behind closed doors, they admit their attraction to each other and their affair begins. ...more</p>,\n",
       " <p class=\"star-rating Three\">\n",
       " <i class=\"icon-star\"></i>\n",
       " <i class=\"icon-star\"></i>\n",
       " <i class=\"icon-star\"></i>\n",
       " <i class=\"icon-star\"></i>\n",
       " <i class=\"icon-star\"></i>\n",
       " </p>,\n",
       " <p class=\"price_color\">£51.77</p>,\n",
       " <p class=\"instock availability\">\n",
       " <i class=\"icon-ok\"></i>\n",
       "     \n",
       "         In stock\n",
       "     \n",
       " </p>]"
      ]
     },
     "execution_count": 21,
     "metadata": {},
     "output_type": "execute_result"
    }
   ],
   "source": [
    "tree_new.find('article', {'class': 'product_page'}).find_all('p') # get description of this book in tags \n",
    "# the desciprion is in p tag, which does not have attributes"
   ]
  },
  {
   "cell_type": "code",
   "execution_count": 26,
   "id": "e8fa4a7e",
   "metadata": {},
   "outputs": [],
   "source": [
    "def get_description(link):\n",
    "    # link - site link fragment\n",
    "    # изготовили ссылку\n",
    "    url = 'http://books.toscrape.com/catalogue/{}'.format(link)\n",
    "    \n",
    "    # сходили по ней\n",
    "    response = requests.get(url)\n",
    "    \n",
    "    # построили дерево стр описания книги\n",
    "    tree = BeautifulSoup(response.content, 'html.parser')\n",
    "    \n",
    "    # находим тег,  в котором находится описание. Оно в теге p. Есть несколько тегов p. \n",
    "    # сделаем так, чтобы самый последний из них - был тег с текстовым описанием, которое нам нужно\n",
    "    temp = tree.find('article', {'class': 'product_page'})\n",
    "    \n",
    "    # у некоторых книг тестовое описание находится не в последнем теге p. Для них удалим тег ul, содерж. другой p\n",
    "    if (tree.find('ul', {'class': 'row'})):\n",
    "        temp.ul.replace_with(\"\")\n",
    "        \n",
    "    # temp.find_all('p') - это массив. Берем последний тег p с помощью индекса -1\n",
    "    # contents возвращает именно содержание тега в текстовой форме\n",
    "    book_description = temp.find_all('p')[-1].contents[-1]\n",
    "    \n",
    "    return book_description\n",
    "    "
   ]
  },
  {
   "cell_type": "code",
   "execution_count": 27,
   "id": "2306f00d",
   "metadata": {},
   "outputs": [
    {
     "data": {
      "text/plain": [
       "'\"Erotic and absorbing...Written with starling power.\"--\"The New York Times Book Review \" Nan King, an oyster girl, is captivated by the music hall phenomenon Kitty Butler, a male impersonator extraordinaire treading the boards in Canterbury. Through a friend at the box office, Nan manages to visit all her shows and finally meet her heroine. Soon after, she becomes Kitty\\'s \"Erotic and absorbing...Written with starling power.\"--\"The New York Times Book Review \" Nan King, an oyster girl, is captivated by the music hall phenomenon Kitty Butler, a male impersonator extraordinaire treading the boards in Canterbury. Through a friend at the box office, Nan manages to visit all her shows and finally meet her heroine. Soon after, she becomes Kitty\\'s dresser and the two head for the bright lights of Leicester Square where they begin a glittering career as music-hall stars in an all-singing and dancing double act. At the same time, behind closed doors, they admit their attraction to each other and their affair begins. ...more'"
      ]
     },
     "execution_count": 27,
     "metadata": {},
     "output_type": "execute_result"
    }
   ],
   "source": [
    "get_description(\"tipping-the-velvet_999/index.html\") # description of a book 'tipping-the-velvet' as an example"
   ]
  },
  {
   "cell_type": "code",
   "execution_count": 28,
   "id": "cc01da77",
   "metadata": {},
   "outputs": [],
   "source": [
    "# 'infa' variable contains book info: title, href, cost\n",
    "# now we add description for each book in 'infa'\n",
    "\n",
    "for i in range(0, len(infa)): \n",
    "    \n",
    "    infa[i]['description'] = get_description(infa[i]['href']) # цикл проходит по всем книжкам в списке infa, добавляем в словарь описание c помощью вызова функции"
   ]
  },
  {
   "cell_type": "code",
   "execution_count": 29,
   "id": "bf831eee",
   "metadata": {
    "scrolled": true
   },
   "outputs": [
    {
     "data": {
      "text/html": [
       "<div>\n",
       "<style scoped>\n",
       "    .dataframe tbody tr th:only-of-type {\n",
       "        vertical-align: middle;\n",
       "    }\n",
       "\n",
       "    .dataframe tbody tr th {\n",
       "        vertical-align: top;\n",
       "    }\n",
       "\n",
       "    .dataframe thead th {\n",
       "        text-align: right;\n",
       "    }\n",
       "</style>\n",
       "<table border=\"1\" class=\"dataframe\">\n",
       "  <thead>\n",
       "    <tr style=\"text-align: right;\">\n",
       "      <th></th>\n",
       "      <th>price</th>\n",
       "      <th>href</th>\n",
       "      <th>title</th>\n",
       "      <th>description</th>\n",
       "    </tr>\n",
       "  </thead>\n",
       "  <tbody>\n",
       "    <tr>\n",
       "      <th>0</th>\n",
       "      <td>£51.77</td>\n",
       "      <td>a-light-in-the-attic_1000/index.html</td>\n",
       "      <td>A Light in the Attic</td>\n",
       "      <td>It's hard to imagine a world without A Light i...</td>\n",
       "    </tr>\n",
       "    <tr>\n",
       "      <th>1</th>\n",
       "      <td>£53.74</td>\n",
       "      <td>tipping-the-velvet_999/index.html</td>\n",
       "      <td>Tipping the Velvet</td>\n",
       "      <td>\"Erotic and absorbing...Written with starling ...</td>\n",
       "    </tr>\n",
       "    <tr>\n",
       "      <th>2</th>\n",
       "      <td>£50.10</td>\n",
       "      <td>soumission_998/index.html</td>\n",
       "      <td>Soumission</td>\n",
       "      <td>Dans une France assez proche de la nôtre, un h...</td>\n",
       "    </tr>\n",
       "    <tr>\n",
       "      <th>3</th>\n",
       "      <td>£47.82</td>\n",
       "      <td>sharp-objects_997/index.html</td>\n",
       "      <td>Sharp Objects</td>\n",
       "      <td>WICKED above her hipbone, GIRL across her hear...</td>\n",
       "    </tr>\n",
       "    <tr>\n",
       "      <th>4</th>\n",
       "      <td>£54.23</td>\n",
       "      <td>sapiens-a-brief-history-of-humankind_996/index...</td>\n",
       "      <td>Sapiens: A Brief History of Humankind</td>\n",
       "      <td>From a renowned historian comes a groundbreaki...</td>\n",
       "    </tr>\n",
       "  </tbody>\n",
       "</table>\n",
       "</div>"
      ],
      "text/plain": [
       "    price                                               href  \\\n",
       "0  £51.77               a-light-in-the-attic_1000/index.html   \n",
       "1  £53.74                  tipping-the-velvet_999/index.html   \n",
       "2  £50.10                          soumission_998/index.html   \n",
       "3  £47.82                       sharp-objects_997/index.html   \n",
       "4  £54.23  sapiens-a-brief-history-of-humankind_996/index...   \n",
       "\n",
       "                                   title  \\\n",
       "0                   A Light in the Attic   \n",
       "1                     Tipping the Velvet   \n",
       "2                             Soumission   \n",
       "3                          Sharp Objects   \n",
       "4  Sapiens: A Brief History of Humankind   \n",
       "\n",
       "                                         description  \n",
       "0  It's hard to imagine a world without A Light i...  \n",
       "1  \"Erotic and absorbing...Written with starling ...  \n",
       "2  Dans une France assez proche de la nôtre, un h...  \n",
       "3  WICKED above her hipbone, GIRL across her hear...  \n",
       "4  From a renowned historian comes a groundbreaki...  "
      ]
     },
     "execution_count": 29,
     "metadata": {},
     "output_type": "execute_result"
    }
   ],
   "source": [
    "df = pd.DataFrame(infa) # see that description was added as a column\n",
    "df.head()"
   ]
  },
  {
   "cell_type": "markdown",
   "id": "0f154dbe",
   "metadata": {},
   "source": [
    "Теперь займемся добавлением инфо о книге"
   ]
  },
  {
   "cell_type": "code",
   "execution_count": 30,
   "id": "dbe25bc6",
   "metadata": {},
   "outputs": [
    {
     "data": {
      "text/plain": [
       "[<tr>\n",
       " <th>UPC</th><td>90fa61229261140a</td>\n",
       " </tr>,\n",
       " <tr>\n",
       " <th>Product Type</th><td>Books</td>\n",
       " </tr>,\n",
       " <tr>\n",
       " <th>Price (excl. tax)</th><td>£53.74</td>\n",
       " </tr>,\n",
       " <tr>\n",
       " <th>Price (incl. tax)</th><td>£53.74</td>\n",
       " </tr>,\n",
       " <tr>\n",
       " <th>Tax</th><td>£0.00</td>\n",
       " </tr>,\n",
       " <tr>\n",
       " <th>Availability</th>\n",
       " <td>In stock (20 available)</td>\n",
       " </tr>,\n",
       " <tr>\n",
       " <th>Number of reviews</th>\n",
       " <td>0</td>\n",
       " </tr>]"
      ]
     },
     "execution_count": 30,
     "metadata": {},
     "output_type": "execute_result"
    }
   ],
   "source": [
    "tree_new.find('table', {'class': 'table table-striped'}).find_all(\"tr\") # get info about this book prices/availability in tags"
   ]
  },
  {
   "cell_type": "code",
   "execution_count": 31,
   "id": "897a898d",
   "metadata": {},
   "outputs": [
    {
     "name": "stdout",
     "output_type": "stream",
     "text": [
      "UPC 90fa61229261140a\n",
      "Product Type Books\n",
      "Price (excl. tax) £53.74\n",
      "Price (incl. tax) £53.74\n",
      "Tax £0.00\n",
      "Availability In stock (20 available)\n",
      "Number of reviews 0\n"
     ]
    }
   ],
   "source": [
    "for i in tree_new.find('table', {'class': 'table table-striped'}).find_all(\"tr\"):\n",
    "    print(i.th.text, i.td.text) # get text info from tags"
   ]
  },
  {
   "cell_type": "code",
   "execution_count": 32,
   "id": "855ca381",
   "metadata": {},
   "outputs": [],
   "source": [
    "def get_info(link):\n",
    "    # изготовили ссылку\n",
    "    url = 'http://books.toscrape.com/catalogue/{}'.format(link)\n",
    "    \n",
    "    # сходили по ней\n",
    "    response = requests.get(url)\n",
    "    \n",
    "    # построили дерево стр описания книги\n",
    "    tree = BeautifulSoup(response.content, 'html.parser')\n",
    "   \n",
    "    info= {}\n",
    "    \n",
    "    # добавляем таблицу с инфо про цены, доступность\n",
    "    for i in tree.find('table', {'class': 'table table-striped'}).find_all(\"tr\"):\n",
    "        info[i.th.text]=i.td.text # get text info from tags and put it into dictionary\n",
    "    \n",
    "    return info"
   ]
  },
  {
   "cell_type": "code",
   "execution_count": 33,
   "id": "833f60d6",
   "metadata": {},
   "outputs": [
    {
     "data": {
      "text/plain": [
       "{'UPC': '90fa61229261140a',\n",
       " 'Product Type': 'Books',\n",
       " 'Price (excl. tax)': '£53.74',\n",
       " 'Price (incl. tax)': '£53.74',\n",
       " 'Tax': '£0.00',\n",
       " 'Availability': 'In stock (20 available)',\n",
       " 'Number of reviews': '0'}"
      ]
     },
     "execution_count": 33,
     "metadata": {},
     "output_type": "execute_result"
    }
   ],
   "source": [
    "get_info(\"tipping-the-velvet_999/index.html\") # info of a book 'tipping-the-velvet' as an example"
   ]
  },
  {
   "cell_type": "code",
   "execution_count": 34,
   "id": "c89fcc6a",
   "metadata": {},
   "outputs": [],
   "source": [
    "for i in range(0, len(infa)):\n",
    "    \n",
    "    # infa[i]['info_in_dict']=get_info(infa[i]['href']) - это добавит нам целиком словарь с инфо в один столбец. \n",
    "    # в датафрейме будет +1 столб.\n",
    "    \n",
    "    infodict = get_info(infa[i]['href']) # info of a book in a dictionary\n",
    "    \n",
    "    # k here is a key of a dictionary 'infodict'\n",
    "    \n",
    "    for k in infodict:\n",
    "        # infa[i] - i element of an 'infa' list. This element is a dictionary \n",
    "        # add into this dictionary key 'k' with value 'infodict[k]'\n",
    "        infa[i][k] = infodict[k] # - это добавит нам каждый ключ словаря в свой столбец. На выходе в датафрейме будет +7 столб.\n",
    "        "
   ]
  },
  {
   "cell_type": "code",
   "execution_count": 35,
   "id": "f31fdfd5",
   "metadata": {},
   "outputs": [
    {
     "data": {
      "text/html": [
       "<div>\n",
       "<style scoped>\n",
       "    .dataframe tbody tr th:only-of-type {\n",
       "        vertical-align: middle;\n",
       "    }\n",
       "\n",
       "    .dataframe tbody tr th {\n",
       "        vertical-align: top;\n",
       "    }\n",
       "\n",
       "    .dataframe thead th {\n",
       "        text-align: right;\n",
       "    }\n",
       "</style>\n",
       "<table border=\"1\" class=\"dataframe\">\n",
       "  <thead>\n",
       "    <tr style=\"text-align: right;\">\n",
       "      <th></th>\n",
       "      <th>price</th>\n",
       "      <th>href</th>\n",
       "      <th>title</th>\n",
       "      <th>description</th>\n",
       "      <th>UPC</th>\n",
       "      <th>Product Type</th>\n",
       "      <th>Price (excl. tax)</th>\n",
       "      <th>Price (incl. tax)</th>\n",
       "      <th>Tax</th>\n",
       "      <th>Availability</th>\n",
       "      <th>Number of reviews</th>\n",
       "    </tr>\n",
       "  </thead>\n",
       "  <tbody>\n",
       "    <tr>\n",
       "      <th>0</th>\n",
       "      <td>£51.77</td>\n",
       "      <td>a-light-in-the-attic_1000/index.html</td>\n",
       "      <td>A Light in the Attic</td>\n",
       "      <td>It's hard to imagine a world without A Light i...</td>\n",
       "      <td>a897fe39b1053632</td>\n",
       "      <td>Books</td>\n",
       "      <td>£51.77</td>\n",
       "      <td>£51.77</td>\n",
       "      <td>£0.00</td>\n",
       "      <td>In stock (22 available)</td>\n",
       "      <td>0</td>\n",
       "    </tr>\n",
       "    <tr>\n",
       "      <th>1</th>\n",
       "      <td>£53.74</td>\n",
       "      <td>tipping-the-velvet_999/index.html</td>\n",
       "      <td>Tipping the Velvet</td>\n",
       "      <td>\"Erotic and absorbing...Written with starling ...</td>\n",
       "      <td>90fa61229261140a</td>\n",
       "      <td>Books</td>\n",
       "      <td>£53.74</td>\n",
       "      <td>£53.74</td>\n",
       "      <td>£0.00</td>\n",
       "      <td>In stock (20 available)</td>\n",
       "      <td>0</td>\n",
       "    </tr>\n",
       "    <tr>\n",
       "      <th>2</th>\n",
       "      <td>£50.10</td>\n",
       "      <td>soumission_998/index.html</td>\n",
       "      <td>Soumission</td>\n",
       "      <td>Dans une France assez proche de la nôtre, un h...</td>\n",
       "      <td>6957f44c3847a760</td>\n",
       "      <td>Books</td>\n",
       "      <td>£50.10</td>\n",
       "      <td>£50.10</td>\n",
       "      <td>£0.00</td>\n",
       "      <td>In stock (20 available)</td>\n",
       "      <td>0</td>\n",
       "    </tr>\n",
       "    <tr>\n",
       "      <th>3</th>\n",
       "      <td>£47.82</td>\n",
       "      <td>sharp-objects_997/index.html</td>\n",
       "      <td>Sharp Objects</td>\n",
       "      <td>WICKED above her hipbone, GIRL across her hear...</td>\n",
       "      <td>e00eb4fd7b871a48</td>\n",
       "      <td>Books</td>\n",
       "      <td>£47.82</td>\n",
       "      <td>£47.82</td>\n",
       "      <td>£0.00</td>\n",
       "      <td>In stock (20 available)</td>\n",
       "      <td>0</td>\n",
       "    </tr>\n",
       "    <tr>\n",
       "      <th>4</th>\n",
       "      <td>£54.23</td>\n",
       "      <td>sapiens-a-brief-history-of-humankind_996/index...</td>\n",
       "      <td>Sapiens: A Brief History of Humankind</td>\n",
       "      <td>From a renowned historian comes a groundbreaki...</td>\n",
       "      <td>4165285e1663650f</td>\n",
       "      <td>Books</td>\n",
       "      <td>£54.23</td>\n",
       "      <td>£54.23</td>\n",
       "      <td>£0.00</td>\n",
       "      <td>In stock (20 available)</td>\n",
       "      <td>0</td>\n",
       "    </tr>\n",
       "  </tbody>\n",
       "</table>\n",
       "</div>"
      ],
      "text/plain": [
       "    price                                               href  \\\n",
       "0  £51.77               a-light-in-the-attic_1000/index.html   \n",
       "1  £53.74                  tipping-the-velvet_999/index.html   \n",
       "2  £50.10                          soumission_998/index.html   \n",
       "3  £47.82                       sharp-objects_997/index.html   \n",
       "4  £54.23  sapiens-a-brief-history-of-humankind_996/index...   \n",
       "\n",
       "                                   title  \\\n",
       "0                   A Light in the Attic   \n",
       "1                     Tipping the Velvet   \n",
       "2                             Soumission   \n",
       "3                          Sharp Objects   \n",
       "4  Sapiens: A Brief History of Humankind   \n",
       "\n",
       "                                         description               UPC  \\\n",
       "0  It's hard to imagine a world without A Light i...  a897fe39b1053632   \n",
       "1  \"Erotic and absorbing...Written with starling ...  90fa61229261140a   \n",
       "2  Dans une France assez proche de la nôtre, un h...  6957f44c3847a760   \n",
       "3  WICKED above her hipbone, GIRL across her hear...  e00eb4fd7b871a48   \n",
       "4  From a renowned historian comes a groundbreaki...  4165285e1663650f   \n",
       "\n",
       "  Product Type Price (excl. tax) Price (incl. tax)    Tax  \\\n",
       "0        Books            £51.77            £51.77  £0.00   \n",
       "1        Books            £53.74            £53.74  £0.00   \n",
       "2        Books            £50.10            £50.10  £0.00   \n",
       "3        Books            £47.82            £47.82  £0.00   \n",
       "4        Books            £54.23            £54.23  £0.00   \n",
       "\n",
       "              Availability Number of reviews  \n",
       "0  In stock (22 available)                 0  \n",
       "1  In stock (20 available)                 0  \n",
       "2  In stock (20 available)                 0  \n",
       "3  In stock (20 available)                 0  \n",
       "4  In stock (20 available)                 0  "
      ]
     },
     "execution_count": 35,
     "metadata": {},
     "output_type": "execute_result"
    }
   ],
   "source": [
    "df = pd.DataFrame(infa)\n",
    "df.head() # see that columns 'UPC', 'Product type', 'Price excl', 'Price incl', 'Tax', 'Availability', 'Reviews' were added"
   ]
  },
  {
   "cell_type": "code",
   "execution_count": null,
   "id": "79b0154a",
   "metadata": {},
   "outputs": [],
   "source": []
  },
  {
   "cell_type": "markdown",
   "id": "21833941",
   "metadata": {},
   "source": [
    "# Задание на семинаре\n"
   ]
  },
  {
   "cell_type": "markdown",
   "id": "ff3953c3",
   "metadata": {},
   "source": [
    "С сайта https://quotes.toscrape.com/ собрать все цитаты, авторов этих цитат, теги цитат. \n",
    "Тегов может быть несколько у одной цитаты"
   ]
  },
  {
   "cell_type": "code",
   "execution_count": 36,
   "id": "0a647041",
   "metadata": {},
   "outputs": [],
   "source": [
    "response2 = requests.get('https://quotes.toscrape.com/') # get content of  page"
   ]
  },
  {
   "cell_type": "code",
   "execution_count": 37,
   "id": "92dc1390",
   "metadata": {},
   "outputs": [],
   "source": [
    "tree2 = BeautifulSoup(response2.content, 'html.parser') # put it into a tree of tags"
   ]
  },
  {
   "cell_type": "code",
   "execution_count": 38,
   "id": "777b0eaa",
   "metadata": {},
   "outputs": [],
   "source": [
    "quotes = tree2.find_all('div', {'class': 'quote'}) # find ALL div tags with class = quote. 'quotes' is a list"
   ]
  },
  {
   "cell_type": "code",
   "execution_count": 39,
   "id": "9edac570",
   "metadata": {},
   "outputs": [
    {
     "data": {
      "text/plain": [
       "<div class=\"quote\" itemscope=\"\" itemtype=\"http://schema.org/CreativeWork\">\n",
       "<span class=\"text\" itemprop=\"text\">“The world as we have created it is a process of our thinking. It cannot be changed without changing our thinking.”</span>\n",
       "<span>by <small class=\"author\" itemprop=\"author\">Albert Einstein</small>\n",
       "<a href=\"/author/Albert-Einstein\">(about)</a>\n",
       "</span>\n",
       "<div class=\"tags\">\n",
       "            Tags:\n",
       "            <meta class=\"keywords\" content=\"change,deep-thoughts,thinking,world\" itemprop=\"keywords\"/>\n",
       "<a class=\"tag\" href=\"/tag/change/page/1/\">change</a>\n",
       "<a class=\"tag\" href=\"/tag/deep-thoughts/page/1/\">deep-thoughts</a>\n",
       "<a class=\"tag\" href=\"/tag/thinking/page/1/\">thinking</a>\n",
       "<a class=\"tag\" href=\"/tag/world/page/1/\">world</a>\n",
       "</div>\n",
       "</div>"
      ]
     },
     "execution_count": 39,
     "metadata": {},
     "output_type": "execute_result"
    }
   ],
   "source": [
    "quotes[0] # first element of a list"
   ]
  },
  {
   "cell_type": "code",
   "execution_count": 40,
   "id": "e99af4eb",
   "metadata": {},
   "outputs": [
    {
     "data": {
      "text/plain": [
       "'“The world as we have created it is a process of our thinking. It cannot be changed without changing our thinking.”'"
      ]
     },
     "execution_count": 40,
     "metadata": {},
     "output_type": "execute_result"
    }
   ],
   "source": [
    "quotes[0].span.text # text of span tag"
   ]
  },
  {
   "cell_type": "code",
   "execution_count": 44,
   "id": "380943d2",
   "metadata": {},
   "outputs": [],
   "source": [
    "# we also need the author of a quote. We find small tag with class = author\n",
    "authors = tree2.find_all('small', {'class': 'author'})"
   ]
  },
  {
   "cell_type": "code",
   "execution_count": 45,
   "id": "450c41c2",
   "metadata": {},
   "outputs": [
    {
     "data": {
      "text/plain": [
       "<small class=\"author\" itemprop=\"author\">Albert Einstein</small>"
      ]
     },
     "execution_count": 45,
     "metadata": {},
     "output_type": "execute_result"
    }
   ],
   "source": [
    "authors[0]"
   ]
  },
  {
   "cell_type": "code",
   "execution_count": 46,
   "id": "26a63112",
   "metadata": {},
   "outputs": [
    {
     "data": {
      "text/plain": [
       "'Albert Einstein'"
      ]
     },
     "execution_count": 46,
     "metadata": {},
     "output_type": "execute_result"
    }
   ],
   "source": [
    "authors[0].text # text of small tag"
   ]
  },
  {
   "cell_type": "code",
   "execution_count": 47,
   "id": "4d1ea17a",
   "metadata": {},
   "outputs": [],
   "source": [
    "# we also need tags of a quote. Each quote can have one or several tags\n",
    "tags = tree2.find_all('div', {'class': 'tags'})"
   ]
  },
  {
   "cell_type": "code",
   "execution_count": 48,
   "id": "e5e18a34",
   "metadata": {},
   "outputs": [
    {
     "data": {
      "text/plain": [
       "<div class=\"tags\">\n",
       "            Tags:\n",
       "            <meta class=\"keywords\" content=\"change,deep-thoughts,thinking,world\" itemprop=\"keywords\"/>\n",
       "<a class=\"tag\" href=\"/tag/change/page/1/\">change</a>\n",
       "<a class=\"tag\" href=\"/tag/deep-thoughts/page/1/\">deep-thoughts</a>\n",
       "<a class=\"tag\" href=\"/tag/thinking/page/1/\">thinking</a>\n",
       "<a class=\"tag\" href=\"/tag/world/page/1/\">world</a>\n",
       "</div>"
      ]
     },
     "execution_count": 48,
     "metadata": {},
     "output_type": "execute_result"
    }
   ],
   "source": [
    "tags[0]"
   ]
  },
  {
   "cell_type": "code",
   "execution_count": 49,
   "id": "5a341b2d",
   "metadata": {},
   "outputs": [
    {
     "data": {
      "text/plain": [
       "[<a class=\"tag\" href=\"/tag/change/page/1/\">change</a>,\n",
       " <a class=\"tag\" href=\"/tag/deep-thoughts/page/1/\">deep-thoughts</a>,\n",
       " <a class=\"tag\" href=\"/tag/thinking/page/1/\">thinking</a>,\n",
       " <a class=\"tag\" href=\"/tag/world/page/1/\">world</a>]"
      ]
     },
     "execution_count": 49,
     "metadata": {},
     "output_type": "execute_result"
    }
   ],
   "source": [
    "tags[0].find_all(\"a\")"
   ]
  },
  {
   "cell_type": "code",
   "execution_count": 50,
   "id": "ddfa8a9d",
   "metadata": {},
   "outputs": [
    {
     "name": "stdout",
     "output_type": "stream",
     "text": [
      "change\n",
      "deep-thoughts\n",
      "thinking\n",
      "world\n"
     ]
    }
   ],
   "source": [
    "for tag in tags[0].find_all(\"a\"):\n",
    "    print(tag.text) # we can get text of an a tags"
   ]
  },
  {
   "cell_type": "markdown",
   "id": "f1426171",
   "metadata": {},
   "source": [
    "Функция, которая соберет инфу со страницы: цитату, автора цитаты, теги этой цитаты"
   ]
  },
  {
   "cell_type": "code",
   "execution_count": 59,
   "id": "4f39bb71",
   "metadata": {},
   "outputs": [],
   "source": [
    "def get_page2(p):\n",
    "    \n",
    "    # изготовили ссылку\n",
    "    url = 'https://quotes.toscrape.com/page/{}/'.format(p)\n",
    "    \n",
    "    # сходили по ней\n",
    "    response = requests.get(url)\n",
    "    \n",
    "    # построили дерево \n",
    "    tree = BeautifulSoup(response.content, 'html.parser')\n",
    "    \n",
    "    # нашли тексты цитат, авторов этих цитат, теги\n",
    "    quotes = tree.find_all('div', {'class': 'quote'}) # цитаты\n",
    "    authors = tree.find_all('small', {'class': 'author'}) # авторы\n",
    "    tags = tree.find_all('div', {'class': 'tags'}) # тэги\n",
    "    \n",
    "    quotes_infa = [ ]\n",
    "    \n",
    "    # сначала заполняем цитаты и их авторов. Каждой цитате соотв. только один автор, так что их количество совпадает\n",
    "   \n",
    "    for i in range(0, len(authors)):\n",
    "        quotes_infa.append({'quote': quotes[i].span.text,\n",
    "                     'author': authors[i].text,\n",
    "                     'tags':[ ]})  \n",
    "        \n",
    "        # затем заполняем тэги\n",
    "        a = [ ] # temporary list to keep tags of a quote\n",
    "        \n",
    "        for tag in tags[i].find_all(\"a\"):\n",
    "            a.append(tag.text)\n",
    "        \n",
    "        quotes_infa[i]['tags'] = a # we add this list of tags into 'quotes_infa' dictionary\n",
    "        \n",
    "                     \n",
    "    return quotes_infa"
   ]
  },
  {
   "cell_type": "code",
   "execution_count": 60,
   "id": "8f73f7ba",
   "metadata": {},
   "outputs": [
    {
     "data": {
      "text/plain": [
       "[{'quote': '“The world as we have created it is a process of our thinking. It cannot be changed without changing our thinking.”',\n",
       "  'author': 'Albert Einstein',\n",
       "  'tags': ['change', 'deep-thoughts', 'thinking', 'world']},\n",
       " {'quote': '“It is our choices, Harry, that show what we truly are, far more than our abilities.”',\n",
       "  'author': 'J.K. Rowling',\n",
       "  'tags': ['abilities', 'choices']},\n",
       " {'quote': '“There are only two ways to live your life. One is as though nothing is a miracle. The other is as though everything is a miracle.”',\n",
       "  'author': 'Albert Einstein',\n",
       "  'tags': ['inspirational', 'life', 'live', 'miracle', 'miracles']},\n",
       " {'quote': '“The person, be it gentleman or lady, who has not pleasure in a good novel, must be intolerably stupid.”',\n",
       "  'author': 'Jane Austen',\n",
       "  'tags': ['aliteracy', 'books', 'classic', 'humor']},\n",
       " {'quote': \"“Imperfection is beauty, madness is genius and it's better to be absolutely ridiculous than absolutely boring.”\",\n",
       "  'author': 'Marilyn Monroe',\n",
       "  'tags': ['be-yourself', 'inspirational']},\n",
       " {'quote': '“Try not to become a man of success. Rather become a man of value.”',\n",
       "  'author': 'Albert Einstein',\n",
       "  'tags': ['adulthood', 'success', 'value']},\n",
       " {'quote': '“It is better to be hated for what you are than to be loved for what you are not.”',\n",
       "  'author': 'André Gide',\n",
       "  'tags': ['life', 'love']},\n",
       " {'quote': \"“I have not failed. I've just found 10,000 ways that won't work.”\",\n",
       "  'author': 'Thomas A. Edison',\n",
       "  'tags': ['edison', 'failure', 'inspirational', 'paraphrased']},\n",
       " {'quote': \"“A woman is like a tea bag; you never know how strong it is until it's in hot water.”\",\n",
       "  'author': 'Eleanor Roosevelt',\n",
       "  'tags': ['misattributed-eleanor-roosevelt']},\n",
       " {'quote': '“A day without sunshine is like, you know, night.”',\n",
       "  'author': 'Steve Martin',\n",
       "  'tags': ['humor', 'obvious', 'simile']}]"
      ]
     },
     "execution_count": 60,
     "metadata": {},
     "output_type": "execute_result"
    }
   ],
   "source": [
    "get_page2(1) # as an example get the info from 'https://quotes.toscrape.com/page/1/'"
   ]
  },
  {
   "cell_type": "code",
   "execution_count": 61,
   "id": "23f86732",
   "metadata": {},
   "outputs": [],
   "source": [
    "infa2 = [ ]\n",
    "# https://quotes.toscrape.com/ has 10 pages of quotes. Use range to collect info from these pages\n",
    "for p in range(1,11):\n",
    "    infa2.extend(get_page2(p))"
   ]
  },
  {
   "cell_type": "code",
   "execution_count": 62,
   "id": "ff318a8e",
   "metadata": {},
   "outputs": [
    {
     "data": {
      "text/plain": [
       "100"
      ]
     },
     "execution_count": 62,
     "metadata": {},
     "output_type": "execute_result"
    }
   ],
   "source": [
    "len(infa2)"
   ]
  },
  {
   "cell_type": "code",
   "execution_count": 63,
   "id": "d0a8ca2b",
   "metadata": {},
   "outputs": [
    {
     "data": {
      "text/html": [
       "<div>\n",
       "<style scoped>\n",
       "    .dataframe tbody tr th:only-of-type {\n",
       "        vertical-align: middle;\n",
       "    }\n",
       "\n",
       "    .dataframe tbody tr th {\n",
       "        vertical-align: top;\n",
       "    }\n",
       "\n",
       "    .dataframe thead th {\n",
       "        text-align: right;\n",
       "    }\n",
       "</style>\n",
       "<table border=\"1\" class=\"dataframe\">\n",
       "  <thead>\n",
       "    <tr style=\"text-align: right;\">\n",
       "      <th></th>\n",
       "      <th>quote</th>\n",
       "      <th>author</th>\n",
       "      <th>tags</th>\n",
       "    </tr>\n",
       "  </thead>\n",
       "  <tbody>\n",
       "    <tr>\n",
       "      <th>0</th>\n",
       "      <td>“The world as we have created it is a process ...</td>\n",
       "      <td>Albert Einstein</td>\n",
       "      <td>[change, deep-thoughts, thinking, world]</td>\n",
       "    </tr>\n",
       "    <tr>\n",
       "      <th>1</th>\n",
       "      <td>“It is our choices, Harry, that show what we t...</td>\n",
       "      <td>J.K. Rowling</td>\n",
       "      <td>[abilities, choices]</td>\n",
       "    </tr>\n",
       "    <tr>\n",
       "      <th>2</th>\n",
       "      <td>“There are only two ways to live your life. On...</td>\n",
       "      <td>Albert Einstein</td>\n",
       "      <td>[inspirational, life, live, miracle, miracles]</td>\n",
       "    </tr>\n",
       "    <tr>\n",
       "      <th>3</th>\n",
       "      <td>“The person, be it gentleman or lady, who has ...</td>\n",
       "      <td>Jane Austen</td>\n",
       "      <td>[aliteracy, books, classic, humor]</td>\n",
       "    </tr>\n",
       "    <tr>\n",
       "      <th>4</th>\n",
       "      <td>“Imperfection is beauty, madness is genius and...</td>\n",
       "      <td>Marilyn Monroe</td>\n",
       "      <td>[be-yourself, inspirational]</td>\n",
       "    </tr>\n",
       "    <tr>\n",
       "      <th>...</th>\n",
       "      <td>...</td>\n",
       "      <td>...</td>\n",
       "      <td>...</td>\n",
       "    </tr>\n",
       "    <tr>\n",
       "      <th>95</th>\n",
       "      <td>“You never really understand a person until yo...</td>\n",
       "      <td>Harper Lee</td>\n",
       "      <td>[better-life-empathy]</td>\n",
       "    </tr>\n",
       "    <tr>\n",
       "      <th>96</th>\n",
       "      <td>“You have to write the book that wants to be w...</td>\n",
       "      <td>Madeleine L'Engle</td>\n",
       "      <td>[books, children, difficult, grown-ups, write,...</td>\n",
       "    </tr>\n",
       "    <tr>\n",
       "      <th>97</th>\n",
       "      <td>“Never tell the truth to people who are not wo...</td>\n",
       "      <td>Mark Twain</td>\n",
       "      <td>[truth]</td>\n",
       "    </tr>\n",
       "    <tr>\n",
       "      <th>98</th>\n",
       "      <td>“A person's a person, no matter how small.”</td>\n",
       "      <td>Dr. Seuss</td>\n",
       "      <td>[inspirational]</td>\n",
       "    </tr>\n",
       "    <tr>\n",
       "      <th>99</th>\n",
       "      <td>“... a mind needs books as a sword needs a whe...</td>\n",
       "      <td>George R.R. Martin</td>\n",
       "      <td>[books, mind]</td>\n",
       "    </tr>\n",
       "  </tbody>\n",
       "</table>\n",
       "<p>100 rows × 3 columns</p>\n",
       "</div>"
      ],
      "text/plain": [
       "                                                quote              author  \\\n",
       "0   “The world as we have created it is a process ...     Albert Einstein   \n",
       "1   “It is our choices, Harry, that show what we t...        J.K. Rowling   \n",
       "2   “There are only two ways to live your life. On...     Albert Einstein   \n",
       "3   “The person, be it gentleman or lady, who has ...         Jane Austen   \n",
       "4   “Imperfection is beauty, madness is genius and...      Marilyn Monroe   \n",
       "..                                                ...                 ...   \n",
       "95  “You never really understand a person until yo...          Harper Lee   \n",
       "96  “You have to write the book that wants to be w...   Madeleine L'Engle   \n",
       "97  “Never tell the truth to people who are not wo...          Mark Twain   \n",
       "98        “A person's a person, no matter how small.”           Dr. Seuss   \n",
       "99  “... a mind needs books as a sword needs a whe...  George R.R. Martin   \n",
       "\n",
       "                                                 tags  \n",
       "0            [change, deep-thoughts, thinking, world]  \n",
       "1                                [abilities, choices]  \n",
       "2      [inspirational, life, live, miracle, miracles]  \n",
       "3                  [aliteracy, books, classic, humor]  \n",
       "4                        [be-yourself, inspirational]  \n",
       "..                                                ...  \n",
       "95                              [better-life-empathy]  \n",
       "96  [books, children, difficult, grown-ups, write,...  \n",
       "97                                            [truth]  \n",
       "98                                    [inspirational]  \n",
       "99                                      [books, mind]  \n",
       "\n",
       "[100 rows x 3 columns]"
      ]
     },
     "execution_count": 63,
     "metadata": {},
     "output_type": "execute_result"
    }
   ],
   "source": [
    "df2 = pd.DataFrame(infa2)\n",
    "df2.head(100)"
   ]
  },
  {
   "cell_type": "code",
   "execution_count": null,
   "id": "942e351f",
   "metadata": {},
   "outputs": [],
   "source": []
  }
 ],
 "metadata": {
  "kernelspec": {
   "display_name": "Python 3",
   "language": "python",
   "name": "python3"
  },
  "language_info": {
   "codemirror_mode": {
    "name": "ipython",
    "version": 3
   },
   "file_extension": ".py",
   "mimetype": "text/x-python",
   "name": "python",
   "nbconvert_exporter": "python",
   "pygments_lexer": "ipython3",
   "version": "3.8.10"
  }
 },
 "nbformat": 4,
 "nbformat_minor": 5
}
